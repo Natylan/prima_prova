{
  "nbformat": 4,
  "nbformat_minor": 0,
  "metadata": {
    "colab": {
      "name": "mejoras_cadaver exquisito_funcionando.ipynb",
      "provenance": [],
      "collapsed_sections": []
    },
    "kernelspec": {
      "name": "python3",
      "display_name": "Python 3"
    }
  },
  "cells": [
    {
      "cell_type": "code",
      "metadata": {
        "id": "HCF3YNq1JuiR",
        "colab": {
          "base_uri": "https://localhost:8080/"
        },
        "outputId": "deabd8d9-fda3-46ae-8df9-50329ff7f5de"
      },
      "source": [
        "punctuations = '''!()-[]{};:'\"\\,<>./?@#$%^&*_~'''\r\n",
        "sin_puntos = ''\r\n",
        "def quitando_puntos(texto):\r\n",
        "  punctuations = '''!()-[]{};:'\"\\,<>./?@#$%^&*_~'''\r\n",
        "  sin_puntos = ''\r\n",
        "  for ch in texto:\r\n",
        "    if ch not in punctuations:\r\n",
        "      sin_puntos += ch\r\n",
        "  return sin_puntos\r\n",
        "print(quitando_puntos(\"\"\"El escenario, si tenéis la amabilidad de seguirme, ahora había cambiado.\r\n",
        "Las hojas seguían cayendo, pero ahora en Londres; .\"\"\".lower()))"
      ],
      "execution_count": 1,
      "outputs": [
        {
          "output_type": "stream",
          "text": [
            "el escenario si tenéis la amabilidad de seguirme ahora había cambiado\n",
            "las hojas seguían cayendo pero ahora en londres \n"
          ],
          "name": "stdout"
        }
      ]
    },
    {
      "cell_type": "code",
      "metadata": {
        "id": "uJmf6p_WJlA2",
        "colab": {
          "base_uri": "https://localhost:8080/"
        },
        "outputId": "4dc54cd8-dd6c-4b5e-cf77-35e834f70580"
      },
      "source": [
        "import random \r\n",
        "texto = \"\"\"BASTARÁ decir que soy Juan Pablo Castel, el pintor que mató a María Iribarne;\r\n",
        "supongo que el proceso está en el recuerdo de todos y que no se necesitan\r\n",
        "mayores explicaciones sobre mi persona.\r\n",
        "Aunque ni el diablo sabe qué es lo que ha de recordar la gente, ni por qué. En\r\n",
        "realidad, siempre he pensado que no hay memoria colectiva, lo que quizá sea una\r\n",
        "forma de defensa de la especie humana. La frase \"todo tiempo pasado fue mejor\" no\r\n",
        "indica que antes sucedieran menos cosas malas, sino que —felizmente— la gente\r\n",
        "las echa en el olvido. Desde luego, semejante frase no tiene validez universal; yo,\r\n",
        "por ejemplo, me caracterizo por recordar preferentemente los hechos malos y, así,\r\n",
        "casi podría decir que \"todo tiempo pasado fue peor\", si no fuera porque el presente\r\n",
        "me parece tan horrible como el pasado; recuerdo tantas calamidades, tantos rostros\r\n",
        "cínicos y crueles, tantas malas acciones, que la memoria es para mí como la\r\n",
        "temerosa luz que alumbra un sórdido museo de la vergüenza. ¡Cuántas veces he\r\n",
        "quedado aplastado durante horas, en un rincón oscuro del taller, después de leer\r\n",
        "una noticia en la sección policial!. Pero la verdad es que no siempre lo más\r\n",
        "vergonzoso de la raza humana aparece allí; hasta cierto punto, los criminales son\r\n",
        "gente más limpia, más inofensiva; esta afirmación no la hago porque yo mismo haya\r\n",
        "matado a un ser humano: es una honesta y profunda convicción. ¿Un individuo es\r\n",
        "pernicioso?. Pues se lo liquida y se acabó. Eso es lo que yo llamo una buena acción.\r\n",
        "Piensen cuánto peor es para la sociedad que ese individuo siga destilando su\r\n",
        "veneno y que en vez de eliminarlo se quiera contrarrestar su acción recurriendo a\r\n",
        "anónimos, maledicencia y otras bajezas semejantes. En lo que a mí se refiere, debo\r\n",
        "confesar que ahora lamento no haber aprovechado mejor el tiempo de mi libertad,\r\n",
        "liquidando a seis o siete tipos que conozco.\r\n",
        "Que el mundo es horrible, es una verdad que no necesita demostración. Bastaría\r\n",
        "un hecho para probarlo, en todo caso: en un campo de concentración un ex pianista\r\n",
        "se quejó de hambre y entonces lo obligaron a comerse una rata, pero viva.\r\n",
        "Ernesto Sábato 6\r\n",
        "El tunel\r\n",
        "No es de eso, sin embargo, de lo que quiero hablar ahora; ya diré más adelante,\r\n",
        "si hay ocasión, algo más sobre este asunto de la rata.\r\n",
        "II\r\n",
        "COMO decía, me llamo Juan Pablo Castel. Podrán preguntarse qué me mueve a\r\n",
        "escribir la historia de mi crimen (no sé si ya dije que voy a relatar mi crimen) y, sobre\r\n",
        "todo, a buscar un editor. Conozco bastante bien el alma humana para prever que\r\n",
        "pensarán en la vanidad. Piensen lo que quieran: me importa un bledo; hace rato que\r\n",
        "me importan un bledo la opinión y la justicia de los hombres. Supongan, pues, que\r\n",
        "publico esta historia por vanidad. Al fin de cuentas estoy hecho de carne, huesos,\r\n",
        "pelo y uñas como cualquier otro hombre y me parecería muy injusto que exigiesen\r\n",
        "de mí, precisamente de mí, cualidades especiales; uno se cree a veces un\r\n",
        "superhombre, hasta que advierte que también es mezquino, sucio y pérfido. De la\r\n",
        "vanidad no digo nada: creo que nadie está desprovisto de este notable motor del\r\n",
        "Progreso Humano. Me hacen reír esos señores que salen con la modestia de\r\n",
        "Einstein o gente por el estilo; respuesta: es fácil ser modesto cuando se es célebre;\r\n",
        "quiero decir parecer modesto. Aun cuando se imagina que no existe en absoluto, se\r\n",
        "la descubre de pronto en su forma más sutil: la vanidad de la modestia. ¡Cuántas\r\n",
        "veces tropezamos con esa clase de individuos! Hasta un hombre, real o simbólico,\r\n",
        "como Cristo, pronunció palabras sugeridas por la vanidad o al menos por la\r\n",
        "soberbia. ¿Qué decir de León Bloy, que se defendía de la acusación de soberbia\r\n",
        "argumentando que se había pasado la vida sirviendo a individuos que no le llegaban\r\n",
        "a las rodillas?\r\n",
        "La vanidad se encuentra en los lugares más inesperados: al lado de la bondad, de la\r\n",
        "abnegación, de la generosidad. Cuando yo era chico y me desesperaba ante la idea\r\n",
        "de que mi madre debía morirse un día (con los años se llega a saber que la muerte\r\n",
        "no sólo es soportable sino hasta reconfortante), no imaginaba que mi madre pudiese\r\n",
        "tener defectos. Ahora que no existe, debo decir que fue tan buena como puede \r\n",
        "Ernesto Sábato 7\r\n",
        "El tunel\r\n",
        "llegar a serlo un ser humano. Pero recuerdo, en sus últimos años, cuando yo era un\r\n",
        "hombre, cómo al comienzo me dolía descubrir debajo de sus mejores acciones un\r\n",
        "sutilísimo ingrediente de vanidad o de orgullo. Algo mucho más demostrativo me\r\n",
        "sucedió a mí mismo cuando la operaron de cáncer. Para llegar a tiempo tuve que\r\n",
        "viajar dos días enteros sin dormir. Cuando llegué al lado de su cama, su rostro de\r\n",
        "cadáver logró sonreírme levemente, con ternura, y murmuró unas palabras para\r\n",
        "compadecerme (¡ella se compadecía de mi cansancio!). Y yo sentí dentro de mí,\r\n",
        "oscuramente, el vanidoso orgullo de haber acudido tan pronto. Confieso este secreto\r\n",
        "para que vean hasta qué punto no me creo mejor que los demás.\r\n",
        "Sin embargo, no relato esta historia por vanidad. Quizá estaría dispuesto a\r\n",
        "aceptar que hay algo de orgullo o de soberbia. Pero ¿por qué esa manía de querer\r\n",
        "encontrar explicación a todos los actos de la vida?\r\n",
        " Cuando comencé este relato estaba firmemente decidido a no dar explicaciones\r\n",
        "de ninguna especie. Tenía ganas de contar la historia de mi crimen, y se acabó, al\r\n",
        "que no le gustara, que no la leyese. Aunque no lo creo, porque precisamente esa\r\n",
        "gente que siempre anda detrás de las explicaciones es la más curiosa y pienso que\r\n",
        "ninguno de ellos se perderá la oportunidad de leer la historia de un crimen hasta el\r\n",
        "final.\r\n",
        "Podría reservarme los motivos que me movieron a escribir estas páginas de\r\n",
        "confesión; pero como no tengo interés en pasar por excéntrico, diré la verdad, que\r\n",
        "de todos modos es bastante simple, pensé que podrían ser leídas por mucha gente,\r\n",
        "ya que ahora soy célebre; y aunque no me hago muchas ilusiones acerca de la\r\n",
        "humanidad en general y de los lectores de estas páginas en particular, me anima la\r\n",
        "débil esperanza de que alguna persona llegue a entenderme. AUNQUE SEA UNA SOLA\r\n",
        "PERSONA.\r\n",
        "\"¿Por qué —se podrá preguntar alguien— apenas una débil esperanza si el manuscrito ha de ser\r\n",
        "leído por tantas personas? Éste es el género de preguntas que considero inútiles, y no obstante hay\r\n",
        "que preverlas, porque la gente hace constantemente preguntas inútiles, preguntas que el análisis\r\n",
        "más superficial revela innecesarias. Puedo hablar hasta el cansancio y a gritos delante de una\r\n",
        "asamblea de cien mil rusos, nadie me entendería. ¿Se dan cuenta de lo que quiero decir?\r\n",
        "Existió una persona que podría entenderme. Pero fue, precisamente, la persona\r\n",
        "que maté.\"\"\"\r\n",
        "#lista del texto original\r\n",
        "texto_ls = texto.split()\r\n",
        "#esta es la funcion para quitar puntuacion:\r\n",
        "texto_dep = quitando_puntos(texto.lower())\r\n",
        "#del texto hago una lista que cumpla la condicion que la longitud a sus palabras sean mayores a 3:\r\n",
        "\r\n",
        "lst_tx_dep = texto_dep.split()\r\n",
        "lst_3_dep = [parola for parola in lst_tx_dep if len(parola) > 3]\r\n",
        "\r\n",
        "inicio = random.choice(lst_3_dep)\r\n",
        "final = random.choice(lst_3_dep)\r\n",
        "\r\n",
        "print(\"\"\"Tu texto tiene que empezar y finalizar, respectivamente, con las palabras que siguen a continuacion, \r\n",
        "(por favor no escribas la primera palabra, pero si es importante que escribas la ultima. \"\"\") \r\n",
        "print(inicio, \"....................\", final)\r\n",
        "\r\n",
        "#print(\"...\", final)\r\n",
        "\r\n",
        "##poniendo en practica la idea de este\r\n",
        "#texto_ls = texto.split(inicio)\r\n",
        "#print(texto_ls[1])\r\n",
        "\r\n",
        "#######################################################        LOOP          ####################################################LOOP\r\n",
        "\r\n",
        "texto_total = \"\"\r\n",
        "num = 3\r\n",
        "n_veces = range(num)\r\n",
        "for n in n_veces:\r\n",
        "  oracion_us = input()\r\n",
        "  posicion_final = lst_3_dep.index(final) #####esto es un numero\r\n",
        "  #####################################################################################\r\n",
        "  ####################### Como hacer para ir vpy a reemplazar el numero 8 por la variable que se llama BUSCADOR PUNTOS\r\n",
        "\r\n",
        "  oracion_tx_ls = texto_ls[posicion_final+1:posicion_final+8] #########la necesito para mostrar la palabra final\r\n",
        "  oracion_tx = ' '.join(texto_ls[posicion_final:posicion_final+8])###la necesito para mostrar al final\r\n",
        "  inicio = oracion_tx_ls[-1] #ultima palabra de la frase extraida del texto, es la unica palabra que puedo mostrar y la que me sirve de inicio\r\n",
        "  final = random.choice(lst_3_dep)##ahora el random me da una palabra que serà para el final de la frase\r\n",
        "  #if n < num:\r\n",
        "  print(inicio, \"......................................\", final )\r\n",
        "  texto_total += oracion_us +\" \" + oracion_tx+ \" \"\r\n",
        "  #else:\r\n",
        "  #  texto_total += oracion_us +\" \" + oracion_tx+ \" \"\r\n",
        "print(texto_total.capitalize()+\"...\")\r\n",
        "#oracion_tx = \r\n",
        "#print(texto_total)\r\n",
        "\r\n",
        "\r\n"
      ],
      "execution_count": 6,
      "outputs": [
        {
          "output_type": "stream",
          "text": [
            "Tu texto tiene que empezar y finalizar, respectivamente, con las palabras que siguen a continuacion, \n",
            "(por favor no escribas la primera palabra, pero si es importante que escribas la ultima. \n",
            "acción .................... algo\n",
            "tiene que ser con lo que termine algo\n",
            "limpia, ...................................... conozco\n",
            "esta vez quisiera que asi fuese alguien que conozco\n",
            "después ...................................... oscuro\n",
            "de este amancer que me parece tan oscuro\n",
            "me ...................................... salen\n",
            "Tiene que ser con lo que termine algo cierto punto, los criminales son gente más limpia, esta vez quisiera que asi fuese alguien que conozco horas, en un rincón oscuro del taller, después de este amancer que me parece tan oscuro no tiene validez universal; yo, por ejemplo, me ...\n"
          ],
          "name": "stdout"
        }
      ]
    },
    {
      "cell_type": "code",
      "metadata": {
        "id": "sbIn_3qCqOkR"
      },
      "source": [
        ""
      ],
      "execution_count": null,
      "outputs": []
    },
    {
      "cell_type": "markdown",
      "metadata": {
        "id": "RPbjVlTUqCkx"
      },
      "source": [
        "Resultados del Texto:\r\n",
        "\r\n",
        "1)Que me digas cosas hirientes, pero al menos si te llamo pasado; recuerdo tantas calamidades, tantos rostros cínicos y te pido que me escuches un momento, porque dentro un bledo; hace rato que me importan un espacio de tiempo entre el tuyo y el mio, quizas nuestros errores se puedan contrarrestar memoria es para mí como la temerosa luz ... "
      ]
    }
  ]
}