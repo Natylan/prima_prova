{
  "nbformat": 4,
  "nbformat_minor": 0,
  "metadata": {
    "colab": {
      "name": "stringhe e posizioni.ipynb",
      "provenance": [],
      "collapsed_sections": []
    },
    "kernelspec": {
      "name": "python3",
      "display_name": "Python 3"
    }
  },
  "cells": [
    {
      "cell_type": "markdown",
      "metadata": {
        "id": "1KBLG36ltZ4W"
      },
      "source": [
        "Stringhe\r\n",
        "Le stringhe sono gruppi di caratteri uno appresso all'altro."
      ]
    },
    {
      "cell_type": "code",
      "metadata": {
        "id": "ysUeQOjWtc7A"
      },
      "source": [
        "saluto = 'ciao \"buenosdias\"'\r\n",
        "len(saluto)\r\n",
        "saluto.count(\"c\")\r\n",
        "#saluto.count(\"i\")\r\n",
        "saluto.index('c')"
      ],
      "execution_count": null,
      "outputs": []
    },
    {
      "cell_type": "code",
      "metadata": {
        "colab": {
          "base_uri": "https://localhost:8080/",
          "height": 72
        },
        "id": "osnrkWgGtl1n",
        "outputId": "160f1b7f-faad-42d9-f899-5b53657d7eda"
      },
      "source": [
        "saluto = 'ciao \"buenosdias\"'\r\n",
        "print(saluto[::-1])\r\n",
        "print(saluto[-3])\r\n",
        "saluto[:8]"
      ],
      "execution_count": null,
      "outputs": [
        {
          "output_type": "stream",
          "text": [
            "\"saidsoneub\" oaic\n",
            "a\n"
          ],
          "name": "stdout"
        },
        {
          "output_type": "execute_result",
          "data": {
            "application/vnd.google.colaboratory.intrinsic+json": {
              "type": "string"
            },
            "text/plain": [
              "'ciao \"bu'"
            ]
          },
          "metadata": {
            "tags": []
          },
          "execution_count": 5
        }
      ]
    },
    {
      "cell_type": "code",
      "metadata": {
        "id": "vo5kxnmBvT1s"
      },
      "source": [
        "s = input(\"Ingresa una palabra: \")\r\n",
        "resultado = \"\"\r\n",
        "i = 0\r\n",
        "while i<len(s):\r\n",
        "  resultado= resultado + s[len(s)-i-1]\r\n",
        "  i=i+1\r\n",
        "print(resultado)"
      ],
      "execution_count": null,
      "outputs": []
    },
    {
      "cell_type": "code",
      "metadata": {
        "id": "Ptge7is-vV_Z"
      },
      "source": [
        "string_1 = input(\"Escribe una palabra \")\r\n",
        "string_2 = input(\"Escribe otra palabra \")\r\n",
        "\r\n",
        "print(string_1[0:2] + string_2[-2:-0])"
      ],
      "execution_count": null,
      "outputs": []
    }
  ]
}